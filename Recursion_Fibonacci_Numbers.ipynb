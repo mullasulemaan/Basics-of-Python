{
  "nbformat": 4,
  "nbformat_minor": 0,
  "metadata": {
    "colab": {
      "name": "Recursion: Fibonacci Numbers",
      "provenance": [],
      "authorship_tag": "ABX9TyMO9blK2dunHSqA1H8Dj9Rc"
    },
    "kernelspec": {
      "name": "python3",
      "display_name": "Python 3"
    },
    "accelerator": "GPU"
  },
  "cells": [
    {
      "cell_type": "code",
      "metadata": {
        "id": "3nYSx7-Pi9K6",
        "colab_type": "code",
        "colab": {
          "base_uri": "https://localhost:8080/",
          "height": 51
        },
        "outputId": "7a3e9cde-26b9-4194-971b-9442849cd178"
      },
      "source": [
        "def fibonacci(n):\n",
        "    if(n == 0):\n",
        "        return 0 \n",
        "    elif(n == 1 or n == 2):\n",
        "        return 1\n",
        "    else:\n",
        "        return(fibonacci(n-1)+fibonacci(n-2))\n",
        "n = int(input())\n",
        "print(fibonacci(n))"
      ],
      "execution_count": 1,
      "outputs": [
        {
          "output_type": "stream",
          "text": [
            "3\n",
            "2\n"
          ],
          "name": "stdout"
        }
      ]
    }
  ]
}