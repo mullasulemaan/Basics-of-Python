{
  "nbformat": 4,
  "nbformat_minor": 0,
  "metadata": {
    "colab": {
      "name": "Loops",
      "provenance": [],
      "authorship_tag": "ABX9TyM0Jg8ofjkxDp9GN8fdKwXk"
    },
    "kernelspec": {
      "name": "python3",
      "display_name": "Python 3"
    },
    "accelerator": "GPU"
  },
  "cells": [
    {
      "cell_type": "code",
      "metadata": {
        "id": "8oJtwKvAezzz",
        "colab_type": "code",
        "colab": {
          "base_uri": "https://localhost:8080/",
          "height": 119
        },
        "outputId": "1c6597c4-b1b5-4229-a2a5-8b6d93755e26"
      },
      "source": [
        "n = int(input())\n",
        "i = 0\n",
        "while i < n:\n",
        "    print(i**2)\n",
        "    i += 1"
      ],
      "execution_count": 1,
      "outputs": [
        {
          "output_type": "stream",
          "text": [
            "5\n",
            "0\n",
            "1\n",
            "4\n",
            "9\n",
            "16\n"
          ],
          "name": "stdout"
        }
      ]
    }
  ]
}