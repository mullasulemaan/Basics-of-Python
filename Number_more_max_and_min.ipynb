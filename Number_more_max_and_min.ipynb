{
  "nbformat": 4,
  "nbformat_minor": 0,
  "metadata": {
    "colab": {
      "name": "Number_more_max_and_min",
      "provenance": [],
      "authorship_tag": "ABX9TyM+aEqbcx7ti9bCu4EfREcV",
      "include_colab_link": true
    },
    "kernelspec": {
      "name": "python3",
      "display_name": "Python 3"
    },
    "accelerator": "GPU"
  },
  "cells": [
    {
      "cell_type": "markdown",
      "metadata": {
        "id": "view-in-github",
        "colab_type": "text"
      },
      "source": [
        "<a href=\"https://colab.research.google.com/github/mullasulemaan/Basics-of-Python/blob/master/Number_more_max_and_min.ipynb\" target=\"_parent\"><img src=\"https://colab.research.google.com/assets/colab-badge.svg\" alt=\"Open In Colab\"/></a>"
      ]
    },
    {
      "cell_type": "code",
      "metadata": {
        "id": "Adt1S87IvveQ",
        "colab_type": "code",
        "colab": {
          "base_uri": "https://localhost:8080/",
          "height": 85
        },
        "outputId": "d82c5b92-9ce2-45b7-bcef-5429bbc62975"
      },
      "source": [
        "n=int(input())\n",
        "arr=list(map(int,input().split()))\n",
        "print('')\n",
        "large=max(arr)\n",
        "small=min(arr)\n",
        "arr.remove(large)\n",
        "arr.remove(small)\n",
        "print(sum(arr))"
      ],
      "execution_count": 2,
      "outputs": [
        {
          "output_type": "stream",
          "text": [
            "5\n",
            "1 2 5 4 3\n",
            "\n",
            "9\n"
          ],
          "name": "stdout"
        }
      ]
    }
  ]
}