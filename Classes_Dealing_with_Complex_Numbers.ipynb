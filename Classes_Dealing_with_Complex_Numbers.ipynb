{
  "nbformat": 4,
  "nbformat_minor": 0,
  "metadata": {
    "colab": {
      "name": "Classes: Dealing with Complex Numbers",
      "provenance": [],
      "authorship_tag": "ABX9TyMz0V+w65JpDuzpvvOFynRn"
    },
    "kernelspec": {
      "name": "python3",
      "display_name": "Python 3"
    },
    "accelerator": "GPU"
  },
  "cells": [
    {
      "cell_type": "code",
      "metadata": {
        "id": "B5xJIgEMkaLc",
        "colab_type": "code",
        "colab": {
          "base_uri": "https://localhost:8080/",
          "height": 153
        },
        "outputId": "e6fd5c8c-db68-4f67-a5e5-91d641e44f74"
      },
      "source": [
        "\n",
        "class Complex(complex):\n",
        "    def __add__(self, no):\n",
        "        return Complex(complex.__add__(self, no))\n",
        "        \n",
        "    def __sub__(self, no):\n",
        "        return Complex(complex.__sub__(self, no))\n",
        "        \n",
        "    def __mul__(self, no):\n",
        "        return Complex(complex.__mul__(self, no))\n",
        "\n",
        "    def __truediv__(self, no):\n",
        "        return Complex(complex.__truediv__(self, no))\n",
        "\n",
        "    def mod(self):\n",
        "        return Complex(complex.__abs__(self))\n",
        "\n",
        "    def __str__(self):\n",
        "      return '{0:04.2f}{1:+04.2f}i'.format(self.real, self.imag+0)\n",
        "if __name__ == '__main__':\n",
        "    c = map(float, input().split())\n",
        "    d = map(float, input().split())\n",
        "    x = Complex(*c)\n",
        "    y = Complex(*d)\n",
        "    print(*map(str, [x+y, x-y, x*y, x/y, x.mod(), y.mod()]), sep='\\n')"
      ],
      "execution_count": 3,
      "outputs": [
        {
          "output_type": "stream",
          "text": [
            "2 1\n",
            "5 6\n",
            "7.00+7.00i\n",
            "-3.00-5.00i\n",
            "4.00+17.00i\n",
            "0.26-0.11i\n",
            "2.24+0.00i\n",
            "7.81+0.00i\n"
          ],
          "name": "stdout"
        }
      ]
    }
  ]
}