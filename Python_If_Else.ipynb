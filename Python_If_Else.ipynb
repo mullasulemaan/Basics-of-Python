{
  "nbformat": 4,
  "nbformat_minor": 0,
  "metadata": {
    "colab": {
      "name": "Python If-Else",
      "provenance": [],
      "authorship_tag": "ABX9TyMrOx7rz6I7wxuePdyiVzMy"
    },
    "kernelspec": {
      "name": "python3",
      "display_name": "Python 3"
    },
    "accelerator": "GPU"
  },
  "cells": [
    {
      "cell_type": "code",
      "metadata": {
        "id": "a9NqW4Tad3LH",
        "colab_type": "code",
        "colab": {
          "base_uri": "https://localhost:8080/",
          "height": 51
        },
        "outputId": "70d43f4d-f55f-4a71-8d7b-708676158e3e"
      },
      "source": [
        "#!/bin/python3\n",
        "import sys\n",
        "n = int(input())\n",
        "if(n % 2 == 1):\n",
        "    print(\"Weird\")\n",
        "elif(n % 2 == 0 and 2  <= n <= 5):\n",
        "    print(\"Not Weird\")\n",
        "elif(n % 2 == 0 and 6 <= n <= 20):\n",
        "    print(\"Weird\")\n",
        "else:\n",
        "    print(\"Not Weird\")"
      ],
      "execution_count": 1,
      "outputs": [
        {
          "output_type": "stream",
          "text": [
            "3\n",
            "Weird\n"
          ],
          "name": "stdout"
        }
      ]
    }
  ]
}