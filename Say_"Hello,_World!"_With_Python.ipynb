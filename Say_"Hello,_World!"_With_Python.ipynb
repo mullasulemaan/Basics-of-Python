{
  "nbformat": 4,
  "nbformat_minor": 0,
  "metadata": {
    "colab": {
      "name": "Say \"Hello, World!\" With Python",
      "provenance": [],
      "authorship_tag": "ABX9TyNtsNhycv1cE50ZdWBxzwc5"
    },
    "kernelspec": {
      "name": "python3",
      "display_name": "Python 3"
    },
    "accelerator": "GPU"
  },
  "cells": [
    {
      "cell_type": "code",
      "metadata": {
        "id": "C82altUSUvBu",
        "colab_type": "code",
        "colab": {
          "base_uri": "https://localhost:8080/",
          "height": 34
        },
        "outputId": "c4c32aca-58e8-4851-d425-391bf702761d"
      },
      "source": [
        "print(\"Hello,\"+\" \"+\"World!\" )"
      ],
      "execution_count": 2,
      "outputs": [
        {
          "output_type": "stream",
          "text": [
            "Hello, World!\n"
          ],
          "name": "stdout"
        }
      ]
    }
  ]
}