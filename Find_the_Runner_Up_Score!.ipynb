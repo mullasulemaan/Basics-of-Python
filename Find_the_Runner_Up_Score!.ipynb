{
  "nbformat": 4,
  "nbformat_minor": 0,
  "metadata": {
    "colab": {
      "name": "Find the Runner-Up Score!",
      "provenance": [],
      "authorship_tag": "ABX9TyPJTh11QH1U3phjx/edn8wU"
    },
    "kernelspec": {
      "name": "python3",
      "display_name": "Python 3"
    },
    "accelerator": "GPU"
  },
  "cells": [
    {
      "cell_type": "code",
      "metadata": {
        "id": "6RTyFf_5nP-1",
        "colab_type": "code",
        "colab": {
          "base_uri": "https://localhost:8080/",
          "height": 68
        },
        "outputId": "b9777c24-35a1-454d-bba9-d2392887286b"
      },
      "source": [
        "n =int(input())\n",
        "arr=list(map(int,input().split()))\n",
        "largest=max(arr)\n",
        "for i in range(n):\n",
        "    if largest==max(arr):\n",
        "        arr.remove(max(arr))\n",
        "print(max(arr))"
      ],
      "execution_count": 1,
      "outputs": [
        {
          "output_type": "stream",
          "text": [
            "5\n",
            "2 3 6 6 5\n",
            "5\n"
          ],
          "name": "stdout"
        }
      ]
    }
  ]
}