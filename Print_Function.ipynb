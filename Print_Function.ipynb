{
  "nbformat": 4,
  "nbformat_minor": 0,
  "metadata": {
    "colab": {
      "name": "Print Function",
      "provenance": [],
      "authorship_tag": "ABX9TyPeqcFhVuXg15Vad1tAp2wR"
    },
    "kernelspec": {
      "name": "python3",
      "display_name": "Python 3"
    },
    "accelerator": "GPU"
  },
  "cells": [
    {
      "cell_type": "code",
      "metadata": {
        "id": "J0_V_zOOgTku",
        "colab_type": "code",
        "colab": {
          "base_uri": "https://localhost:8080/",
          "height": 51
        },
        "outputId": "56b69521-c87c-4b6c-ef2f-f795b0fcd4c4"
      },
      "source": [
        "n = int(input())\n",
        "for  i in range(n):\n",
        "    print(i+1,end=\"\")"
      ],
      "execution_count": 1,
      "outputs": [
        {
          "output_type": "stream",
          "text": [
            "3\n",
            "123"
          ],
          "name": "stdout"
        }
      ]
    }
  ]
}