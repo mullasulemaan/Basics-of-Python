{
  "nbformat": 4,
  "nbformat_minor": 0,
  "metadata": {
    "colab": {
      "name": "Star_Rangoli",
      "provenance": [],
      "authorship_tag": "ABX9TyPb6L5nzFqZH4Gmpp9Zr2lm",
      "include_colab_link": true
    },
    "kernelspec": {
      "name": "python3",
      "display_name": "Python 3"
    },
    "accelerator": "GPU"
  },
  "cells": [
    {
      "cell_type": "markdown",
      "metadata": {
        "id": "view-in-github",
        "colab_type": "text"
      },
      "source": [
        "<a href=\"https://colab.research.google.com/github/mullasulemaan/Basics-of-Python/blob/master/Star_Rangoli.ipynb\" target=\"_parent\"><img src=\"https://colab.research.google.com/assets/colab-badge.svg\" alt=\"Open In Colab\"/></a>"
      ]
    },
    {
      "cell_type": "code",
      "metadata": {
        "id": "yok2BztLxE8i",
        "colab_type": "code",
        "colab": {
          "base_uri": "https://localhost:8080/",
          "height": 204
        },
        "outputId": "df4f55a8-1f11-4663-c6a1-0f54619af83a"
      },
      "source": [
        "n=int(input())\n",
        "print('')\n",
        "for i in range(2*n-1):\n",
        "    for j in range(i):\n",
        "        print(\" \",end='')\n",
        "    for k in range(2*n-1-i):\n",
        "        print(\"*\",end='')\n",
        "    print(\"\")\n",
        "for i in range(1,2*n-1):\n",
        "    for j in range(2*n-2-i):\n",
        "        print(\" \",end='')\n",
        "    for k in range(i+1):\n",
        "        print(\"*\",end='')\n",
        "    print(\"\")"
      ],
      "execution_count": 1,
      "outputs": [
        {
          "output_type": "stream",
          "text": [
            "3\n",
            "\n",
            "*****\n",
            " ****\n",
            "  ***\n",
            "   **\n",
            "    *\n",
            "   **\n",
            "  ***\n",
            " ****\n",
            "*****\n"
          ],
          "name": "stdout"
        }
      ]
    }
  ]
}