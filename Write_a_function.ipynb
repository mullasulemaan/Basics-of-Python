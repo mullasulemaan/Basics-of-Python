{
  "nbformat": 4,
  "nbformat_minor": 0,
  "metadata": {
    "colab": {
      "name": "Write a function",
      "provenance": [],
      "authorship_tag": "ABX9TyMbMPfNecKfCyYCJUrl0TV8"
    },
    "kernelspec": {
      "name": "python3",
      "display_name": "Python 3"
    },
    "accelerator": "GPU"
  },
  "cells": [
    {
      "cell_type": "code",
      "metadata": {
        "id": "fhAZm88Khxmq",
        "colab_type": "code",
        "colab": {
          "base_uri": "https://localhost:8080/",
          "height": 51
        },
        "outputId": "acabcdc3-1201-4997-ba8b-015dd6fab685"
      },
      "source": [
        "def is_leap(year):\n",
        "    leap = False\n",
        "    if year % 400 == 0:\n",
        "        leap = True\n",
        "    elif year % 100 == 0:\n",
        "        leap = False\n",
        "    elif year % 4 == 0:\n",
        "        leap = True     \n",
        "    return leap\n",
        "year = int(input())\n",
        "print(is_leap(year))"
      ],
      "execution_count": 3,
      "outputs": [
        {
          "output_type": "stream",
          "text": [
            "1990\n",
            "False\n"
          ],
          "name": "stdout"
        }
      ]
    }
  ]
}